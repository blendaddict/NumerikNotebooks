{
 "cells": [
  {
   "cell_type": "markdown",
   "metadata": {},
   "source": [
    "# Notebook zu Gleitpunktzahlen im IEEE-Standard (Double-Precision)"
   ]
  },
  {
   "cell_type": "markdown",
   "metadata": {},
   "source": [
    "---\n",
    "\n",
    "# Arbeiten mit einem jupyter notebook\n",
    "\n",
    "- Mit `help(Ausdruck)` können Sie sich Informationen zu \"Ausdruck\" anzeigen lassen.\n",
    "- Sie können in den Zellen, die mit \"`In [ ]:`\" beginnen, Python-Code eingeben. Wenn Sie **SHIFT+Enter** drücken, wird der Code ausgeführt und die nächste Zelle wird ausgewählt. Führen Sie als Test den folgenden Code aus:"
   ]
  },
  {
   "cell_type": "code",
   "execution_count": null,
   "metadata": {},
   "outputs": [],
   "source": [
    "help(print)"
   ]
  },
  {
   "cell_type": "code",
   "execution_count": null,
   "metadata": {},
   "outputs": [],
   "source": [
    "print(\"Hallo jupyter notebook\")"
   ]
  },
  {
   "cell_type": "markdown",
   "metadata": {},
   "source": [
    "- Dabei ist es möglich mehrere Zeilen zu programmieren, die dann nacheinander ausgeführt werden."
   ]
  },
  {
   "cell_type": "code",
   "execution_count": null,
   "metadata": {},
   "outputs": [],
   "source": [
    "a = 5\n",
    "b = 13\n",
    "print(a + b)"
   ]
  },
  {
   "cell_type": "markdown",
   "metadata": {},
   "source": [
    "- Falls die **letzte Zeile** in einer Code-Zelle `n` einen Wert beinhaltet, wird dieser als \"`Out [n]:`\" ausgegeben. Hierfür ist kein Aufruf von `print` notwendig."
   ]
  },
  {
   "cell_type": "code",
   "execution_count": null,
   "metadata": {},
   "outputs": [],
   "source": [
    "print(\"Variablen bleiben über Zellen hinweg erhalten:\")\n",
    "a + b"
   ]
  },
  {
   "cell_type": "markdown",
   "metadata": {},
   "source": [
    "---\n",
    "\n",
    "# Aufgabe 1 (Gleitpunktzahlen und -arithmetik)\n",
    "**(a) Vollziehen Sie nach, dass die Gleitpunktaddition und -multiplikation (die Addition und Multiplikation im Computer, z. B. mit Python) nicht assoziativ sind. Dabei entspricht die Notation `1e-16` der Zahl $1\\cdot 10^{-16}$ bzw. `xe-16` der Zahl $x\\cdot 10^{-16}$.**"
   ]
  },
  {
   "cell_type": "code",
   "execution_count": 27,
   "metadata": {},
   "outputs": [],
   "source": [
    "a = 1\n",
    "b = 1e-16\n",
    "c = a+0.6e-8\n",
    "d = a-0.6e-8"
   ]
  },
  {
   "cell_type": "code",
   "execution_count": 28,
   "metadata": {},
   "outputs": [
    {
     "data": {
      "text/plain": [
       "1.0"
      ]
     },
     "execution_count": 28,
     "metadata": {},
     "output_type": "execute_result"
    }
   ],
   "source": [
    "(a + b) + b"
   ]
  },
  {
   "cell_type": "code",
   "execution_count": 29,
   "metadata": {},
   "outputs": [
    {
     "data": {
      "text/plain": [
       "1.0000000000000002"
      ]
     },
     "execution_count": 29,
     "metadata": {},
     "output_type": "execute_result"
    }
   ],
   "source": [
    "a + (b + b)"
   ]
  },
  {
   "cell_type": "code",
   "execution_count": 30,
   "metadata": {},
   "outputs": [
    {
     "data": {
      "text/plain": [
       "0.999999994"
      ]
     },
     "execution_count": 30,
     "metadata": {},
     "output_type": "execute_result"
    }
   ],
   "source": [
    "(c * d) * d"
   ]
  },
  {
   "cell_type": "code",
   "execution_count": 31,
   "metadata": {},
   "outputs": [
    {
     "data": {
      "text/plain": [
       "0.9999999939999998"
      ]
     },
     "execution_count": 31,
     "metadata": {},
     "output_type": "execute_result"
    }
   ],
   "source": [
    "c * (d * d)"
   ]
  },
  {
   "cell_type": "markdown",
   "metadata": {},
   "source": [
    "**(b) Die Definition der Maschinengenauigkeit zu gegebener Basis $B$ und Mantissenlänge $L_m$ der Vorlesung ist $\\operatorname{eps}=\\frac{B^{(1-L_m)}}{2}$. Im Allgemeinen ist $1+2\\operatorname{eps}$ die kleinste Gleitpunktzahl größer als $1$. Im IEEE-Standard des Double-Precision Formats ($B=2, L_m=52$) ist $1+\\operatorname{eps}$ diese kleinste Zahl (vgl. Bemerkung 1.3) im Skript):**"
   ]
  },
  {
   "cell_type": "code",
   "execution_count": 37,
   "metadata": {},
   "outputs": [
    {
     "name": "stdout",
     "output_type": "stream",
     "text": [
      "2.220446049250313e-16\n",
      "1.0000000000000002\n"
     ]
    }
   ],
   "source": [
    "eps = 2**(-52)\n",
    "print(eps)\n",
    "print(1+eps)"
   ]
  },
  {
   "cell_type": "code",
   "execution_count": 33,
   "metadata": {},
   "outputs": [
    {
     "data": {
      "text/plain": [
       "True"
      ]
     },
     "execution_count": 33,
     "metadata": {},
     "output_type": "execute_result"
    }
   ],
   "source": [
    "1 + 0.50001*eps == 1 + eps # Aufrunden"
   ]
  },
  {
   "cell_type": "code",
   "execution_count": 34,
   "metadata": {},
   "outputs": [
    {
     "data": {
      "text/plain": [
       "True"
      ]
     },
     "execution_count": 34,
     "metadata": {},
     "output_type": "execute_result"
    }
   ],
   "source": [
    "1 + 0.49999*eps == 1       # Abrunden"
   ]
  },
  {
   "cell_type": "code",
   "execution_count": 35,
   "metadata": {},
   "outputs": [
    {
     "data": {
      "text/plain": [
       "True"
      ]
     },
     "execution_count": 35,
     "metadata": {},
     "output_type": "execute_result"
    }
   ],
   "source": [
    "1 + eps == 0.8e-16 + 0.8e-16 + 1 "
   ]
  },
  {
   "cell_type": "code",
   "execution_count": 39,
   "metadata": {},
   "outputs": [
    {
     "name": "stdout",
     "output_type": "stream",
     "text": [
      "1e-308\n",
      "1e-323\n",
      "0.0\n",
      "inf\n",
      "-inf\n"
     ]
    }
   ],
   "source": [
    "# Es gibt viel kleinere Gleitpunktzahlen als die Maschinengenauigkeit\n",
    "print(1e-308)\n",
    "print(1e-323) # Hier wird die Normalisierung aufgehoben, um noch kleinere Zahlen darstellen zu können.\n",
    "print(1e-324) # Exponentenunterlauf\n",
    "print(1e309)  # Exponentenüberlauf\n",
    "print(-1e309)  # Exponentenüberlauf"
   ]
  },
  {
   "cell_type": "markdown",
   "metadata": {},
   "source": [
    "**(c) Wir betrachten die Verteilung der normalisierten Gleitpunktzahlen $\\mathrm{FL}$.**"
   ]
  },
  {
   "cell_type": "code",
   "execution_count": 70,
   "metadata": {},
   "outputs": [
    {
     "data": {
      "image/png": "[encoded data removed]",
      "text/plain": [
       "<Figure size 1800x288 with 1 Axes>"
      ]
     },
     "metadata": {
      "needs_background": "light"
     },
     "output_type": "display_data"
    }
   ],
   "source": [
    "import itertools\n",
    "import matplotlib.pyplot as plt\n",
    "\n",
    "B = 2 # Besser nur B = 2 oder B = 3\n",
    "Lm = 3\n",
    "emin = -4\n",
    "Le = 3\n",
    "\n",
    "plt.figure(figsize = (25,4))\n",
    "\n",
    "# Erzeugung aller möglichen Koeffizienten-Tuple (a_1,...,a_{L_m}) durch itertools.product()\n",
    "for al in itertools.product(range(B), repeat=Lm): \n",
    "    if al[0] != 0: # Normalisierung\n",
    "        # Berechnung des Werts der Mantisse\n",
    "        m = sum(al[l]*B**-(l+1) for l in range(Lm))\n",
    "        \n",
    "        # Zu jeder Mantisse werden alle möglichen Exponenten generiert\n",
    "        for cl in itertools.product(range(B), repeat=Le):\n",
    "            # Berechnung des Exponenten\n",
    "            e = emin + sum(cl[l]*B**l for l in range(Le))\n",
    "            \n",
    "            # Plot der aktuellen Gleitpunktzahl auf einem Zahlenstrahl\n",
    "            if m*B**e==1+2*B**(-Lm) or m*B**e==2+4*B**(-Lm):\n",
    "                plt.plot(+m*B**e, 0, \"+\", color=\"r\", markersize=10, markeredgewidth=2) \n",
    "            else:\n",
    "                plt.plot(+m*B**e, 0, \"+\", color=\"k\", markersize=10, markeredgewidth=2) \n",
    "            plt.plot(-m*B**e, 0, \"+\", color=\"k\", markersize=10, markeredgewidth=2) \n",
    "\n",
    "# Markierung der Null\n",
    "plt.plot(0, 0, \"|\", color=\"k\", markersize=20, markeredgewidth=2) \n",
    "plt.xticks([i for i in range(-7,8)], fontsize=25)\n",
    "plt.yticks([])\n",
    "#plt.savefig(\"Verteilung_Gleitpunktzahlen\",  format=\"pdf\")\n",
    "plt.show()    "
   ]
  },
  {
   "cell_type": "code",
   "execution_count": 62,
   "metadata": {},
   "outputs": [
    {
     "name": "stdout",
     "output_type": "stream",
     "text": [
      "Alle möglichen Mantissen:\n",
      "Symbolische Darstellung: 100   Numerischer Wert 0.5\n",
      "Symbolische Darstellung: 101   Numerischer Wert 0.625\n",
      "Symbolische Darstellung: 110   Numerischer Wert 0.75\n",
      "Symbolische Darstellung: 111   Numerischer Wert 0.875\n"
     ]
    }
   ],
   "source": [
    "print(\"Alle möglichen Mantissen:\")\n",
    "for al in itertools.product(range(B), repeat=Lm):\n",
    "    if al[0] != 0: # Normalisierung\n",
    "        m = sum(al[l]*B**-(l+1) for l in range(Lm))\n",
    "        print(\"Symbolische Darstellung:\", \"\".join(map(str, al)), \"  Numerischer Wert\", m)  "
   ]
  },
  {
   "cell_type": "code",
   "execution_count": 63,
   "metadata": {},
   "outputs": [
    {
     "name": "stdout",
     "output_type": "stream",
     "text": [
      "Alle möglichen Exponenten:\n",
      "Symbolische Darstellung: 000   Numerischer Wert -4\n",
      "Symbolische Darstellung: 001   Numerischer Wert 0\n",
      "Symbolische Darstellung: 010   Numerischer Wert -2\n",
      "Symbolische Darstellung: 011   Numerischer Wert 2\n",
      "Symbolische Darstellung: 100   Numerischer Wert -3\n",
      "Symbolische Darstellung: 101   Numerischer Wert 1\n",
      "Symbolische Darstellung: 110   Numerischer Wert -1\n",
      "Symbolische Darstellung: 111   Numerischer Wert 3\n"
     ]
    }
   ],
   "source": [
    "print(\"Alle möglichen Exponenten:\")\n",
    "for cl in itertools.product(range(B), repeat=Le):\n",
    "    e = emin + sum(cl[l]*B**l for l in range(Le))\n",
    "    print(\"Symbolische Darstellung:\", \"\".join(map(str, cl)), \"  Numerischer Wert\", e)          "
   ]
  },
  {
   "cell_type": "markdown",
   "metadata": {},
   "source": [
    "**(d) Wir berechnen $e_{max}$, $\\max \\text{FL}$, $\\min \\text{FL}$, $\\min \\text{FL}_+$ $\\max \\text{Fl}_-$, $\\text{eps}$**"
   ]
  },
  {
   "cell_type": "code",
   "execution_count": 71,
   "metadata": {},
   "outputs": [
    {
     "name": "stdout",
     "output_type": "stream",
     "text": [
      " emin     = -4\n",
      " emax     =  3\n",
      " max_FL   =  7.000\n",
      " min_FL   = -7.000\n",
      " min_FL_p =  0.031\n",
      " max_Fl_n = -0.031\n",
      " eps      =  0.125\n"
     ]
    }
   ],
   "source": [
    "B = 2\n",
    "Lm = 3\n",
    "emin = -4\n",
    "Le = 3\n",
    "\n",
    "emax = emin + B ** Le - 1\n",
    "max_FL = B ** emax * (1 - B ** - Lm)\n",
    "min_FL = -max_FL\n",
    "min_FL_p = B ** (emin - 1)\n",
    "max_Fl_n = -min_FL_p\n",
    "eps = B ** (1 - Lm) / 2\n",
    "print(\" emin     = {:2}\\n emax     = {:2}\\n max_FL   = {:6.3f}\\n min_FL   = {:6.3f}\\n min_FL_p = {:6.3f}\\n max_Fl_n = {:6.3f}\\n eps      = {:6.3f}\".format(\n",
    "    emin, emax, max_FL, min_FL, min_FL_p, max_Fl_n, eps))"
   ]
  },
  {
   "cell_type": "code",
   "execution_count": 45,
   "metadata": {},
   "outputs": [
    {
     "name": "stdout",
     "output_type": "stream",
     "text": [
      " emin     = -1022\n",
      " emax     =  1023\n",
      " max_FL   =     8.988e+307\n",
      " min_FL   =    -8.988e+307\n",
      " min_FL_p =     1.113e-308\n",
      " max_Fl_n =    -1.113e-308\n",
      " eps      =      2.220e-16\n"
     ]
    }
   ],
   "source": [
    "# IEEE Standard\n",
    "B = 2\n",
    "Lm = 52\n",
    "emin = -1022\n",
    "Le = 11\n",
    "\n",
    "emax = 1023  # Formel liefert 1025, 1023 wird aber tatsächlich in IEEE Standard verwendet\n",
    "max_FL = B ** emax * (1 - B ** - Lm)\n",
    "min_FL = -max_FL\n",
    "min_FL_p = B ** (emin - 1)\n",
    "max_Fl_n = -min_FL_p\n",
    "eps = (B ** (1 - Lm) / 2)\n",
    "print(\" emin     = {:5}\\n emax     = {:5}\\n max_FL   = {:14.3e}\\n min_FL   = {:14.3e}\\n min_FL_p = {:14.3e}\\n max_Fl_n = {:14.3e}\\n eps      = {:14.3e}\".format(\n",
    "    emin, emax, max_FL, min_FL, min_FL_p, max_Fl_n, eps))"
   ]
  },
  {
   "cell_type": "markdown",
   "metadata": {},
   "source": [
    "ToDo numpy.finfo"
   ]
  },
  {
   "cell_type": "markdown",
   "metadata": {},
   "source": [
    "**(d) Wir betrachten die im Übungsblatt definierten Funktionen**"
   ]
  },
  {
   "cell_type": "code",
   "execution_count": null,
   "metadata": {},
   "outputs": [],
   "source": [
    "import matplotlib.pyplot as plt\n",
    "import numpy as np\n",
    "\n",
    "def f(x):\n",
    "    if x == 0:\n",
    "        return 1\n",
    "    else:\n",
    "        return (np.exp(x)-1)/x\n",
    "    \n",
    "def g(x):\n",
    "    y = np.exp(x)\n",
    "    if y == 1:\n",
    "        return 1\n",
    "    else:\n",
    "        return (y-1)/np.log(y)\n",
    "\n",
    "x = np.linspace(10**(-308), 10**(-15), 100)\n",
    "fx = [f(x_) for x_ in x]\n",
    "gx = [g(x_) for x_ in x]\n",
    "\n",
    "plt.plot(x, fx)\n",
    "plt.plot(x, gx)"
   ]
  },
  {
   "cell_type": "markdown",
   "metadata": {},
   "source": [
    "---\n",
    "\n",
    "# Aufgabe 2 (Approximation von $\\pi$, Auslöschung)\n",
    "\n",
    "**(a) Berechnung einer Approximation durch eine stabile Rekursion**\n"
   ]
  },
  {
   "cell_type": "code",
   "execution_count": 46,
   "metadata": {},
   "outputs": [
    {
     "name": "stdout",
     "output_type": "stream",
     "text": [
      "pi_n: 3.105828541230249,   Fehler: 3.5764112359544242e-02\n",
      "pi_n: 3.132628613281238,   Fehler: 8.9640403085553544e-03\n",
      "pi_n: 3.139350203046867,   Fehler: 2.2424505429263775e-03\n",
      "pi_n: 3.141031950890509,   Fehler: 5.6070269928376604e-04\n",
      "pi_n: 3.141452472285462,   Fehler: 1.4018130433157694e-04\n",
      "pi_n: 3.141557607911857,   Fehler: 3.5045677935663377e-05\n",
      "pi_n: 3.141583892148318,   Fehler: 8.7614414754355607e-06\n",
      "pi_n: 3.141590463228050,   Fehler: 2.1903617435370393e-06\n",
      "pi_n: 3.141592105999271,   Fehler: 5.4759052225961113e-07\n",
      "pi_n: 3.141592516692156,   Fehler: 1.3689763678215172e-07\n",
      "pi_n: 3.141592619365383,   Fehler: 3.4224409972694048e-08\n",
      "pi_n: 3.141592645033690,   Fehler: 8.5561033813519316e-09\n",
      "pi_n: 3.141592651450766,   Fehler: 2.1390267335164026e-09\n",
      "pi_n: 3.141592653055036,   Fehler: 5.3475712746831050e-10\n",
      "pi_n: 3.141592653456103,   Fehler: 1.3368994800089240e-10\n",
      "pi_n: 3.141592653556370,   Fehler: 3.3423042111735413e-11\n",
      "pi_n: 3.141592653581437,   Fehler: 8.3559825725387782e-12\n",
      "pi_n: 3.141592653587703,   Fehler: 2.0898838215543947e-12\n",
      "pi_n: 3.141592653589270,   Fehler: 5.2313708920337376e-13\n",
      "pi_n: 3.141592653589662,   Fehler: 1.3145040611561853e-13\n",
      "pi_n: 3.141592653589759,   Fehler: 3.3750779948604759e-14\n",
      "pi_n: 3.141592653589784,   Fehler: 8.8817841970012523e-15\n",
      "pi_n: 3.141592653589790,   Fehler: 2.6645352591003757e-15\n",
      "pi_n: 3.141592653589792,   Fehler: 8.8817841970012523e-16\n",
      "pi_n: 3.141592653589793,   Fehler: 0.0000000000000000e+00\n"
     ]
    }
   ],
   "source": [
    "# Das Modul numpy stellt hier die Wurzelfunktion sqrt() und den Gleitpunktwert pi der Kreiszahl bereit.\n",
    "# Der Zugriff auf die Wurzelfunktion erfolgt über np.sqrt(), den Gleitpunktwert von pi erhält man durch np.pi\n",
    "import numpy as np\n",
    "\n",
    "# Initialisierung der Rekursion\n",
    "n = 6     # Anzahl der Dreiecke\n",
    "g = 1     # bei 6 Dreiecken (gleichseitig) gilt g = r, also hier g = 1\n",
    "pi_approx = 3\n",
    "pi_approx_old = 0\n",
    "\n",
    "while np.abs(pi_approx_old-pi_approx)>1e-15:\n",
    "    n = 2*n                                # Verdopplung der Anzahl an Dreiecken\n",
    "    g = g / np.sqrt(2 + np.sqrt(4 - g**2)) # Berechnung der neuen Grundseite auf stabile Weise: keine Auslöschung!!!\n",
    "    pi_approx_old = pi_approx              # Speicherung der vorherigen Approximation für das STOPP-Kriterium\n",
    "    pi_approx = n*g/2                      # Approximation von pi als Umfang/2\n",
    "    # Formatierte Ausgabe\n",
    "    print(\"pi_n: {:16.15f},   Fehler: {:20.16e}\".format(pi_approx, np.pi - pi_approx))"
   ]
  },
  {
   "cell_type": "markdown",
   "metadata": {},
   "source": [
    "**(b) Das Phänomen der Auslöschung bei der Subtraktion zweier Gleitpunktzahlen $x,y\\in\\mathrm{FL}$ mit $x\\approx y$.**"
   ]
  },
  {
   "cell_type": "code",
   "execution_count": 47,
   "metadata": {},
   "outputs": [
    {
     "data": {
      "text/plain": [
       "-1.0912999948153868e-09"
      ]
     },
     "execution_count": 47,
     "metadata": {},
     "output_type": "execute_result"
    }
   ],
   "source": [
    "delta = 1e-9                  # Störung bzw. Rundungsfehler aus vorherigen Rechnungen\n",
    "x = 0.1234567831234\n",
    "y = 0.1234567832147 + delta   # Die Störung wirken sich in y nur auf hintere weniger signifikante Stellen der Mantisse aus \n",
    "x - y                         # das Ergebnis x - y wird maßgeblich von der Störung bestimmt!"
   ]
  },
  {
   "cell_type": "markdown",
   "metadata": {},
   "source": [
    "**(c) Wir betrachten die quadratische Funktion $f(x)=(x-c)(x-c^{-1})=x^2-(c+c^{-1})x+1$ für $c\\gg 1$. Die Nullstellen sind offenbar $x=c$ und $x=c^{-1}$. Wir berechnen die Nullstellen mit Hilfe der $pq$-Formel:**"
   ]
  },
  {
   "cell_type": "code",
   "execution_count": null,
   "metadata": {},
   "outputs": [],
   "source": [
    "c = 20000000\n",
    "x1 = (c + 1/c + np.sqrt((c + 1/c)**2-4))/2\n",
    "x2 = (c + 1/c - np.sqrt((c + 1/c)**2-4))/2\n",
    "print(\"Relativer Fehler bei der Berechnung der Nullstelle 1/c durch pq-Formel      = {}\".format(np.abs(x2-1/c)*c))\n",
    "\n",
    "x2 = 1/x1 # Berechnung der zweiten Nullstelle über Satz von Vieta\n",
    "print(\"Relativer Fehler bei der Berechnung der Nullstelle 1/c durch Satz von Vieta = {}\".format(np.abs(x2-1/c)*c))"
   ]
  },
  {
   "cell_type": "markdown",
   "metadata": {},
   "source": [
    "Erklären Sie den großen relativen Fehler bei Verwendung der pq-Formel."
   ]
  },
  {
   "cell_type": "markdown",
   "metadata": {},
   "source": [
    "**(d) Erklären Sie, wo bei der Berechnung einer Approximation von $\\pi$ Auslöschung auftritt:**"
   ]
  },
  {
   "cell_type": "code",
   "execution_count": 48,
   "metadata": {},
   "outputs": [
    {
     "name": "stdout",
     "output_type": "stream",
     "text": [
      "0.0\n"
     ]
    }
   ],
   "source": [
    "# Initialisierung der Rekursion\n",
    "n = 6     # Anzahl der Dreiecke\n",
    "g = 1     # bei 6 Dreiecken (gleichseitig) gilt g = r, also hier g = 1\n",
    "\n",
    "for k in range(30):\n",
    "    n = 2*n\n",
    "    \n",
    "    # erste Variante ((1.1) im Skript)\n",
    "    g = np.sqrt(2 - np.sqrt(4 - g**2))\n",
    "    \n",
    "    # zweite Variante ((1.2) im Skript)\n",
    "    #g = g/np.sqrt(2+np.sqrt(4-g**2))\n",
    "    pi_approx = n*g/2\n",
    "    \n",
    "print(pi_approx)"
   ]
  },
  {
   "cell_type": "code",
   "execution_count": null,
   "metadata": {},
   "outputs": [],
   "source": []
  }
 ],
 "metadata": {
  "kernelspec": {
   "display_name": "Python 3",
   "language": "python",
   "name": "python3"
  },
  "language_info": {
   "codemirror_mode": {
    "name": "ipython",
    "version": 3
   },
   "file_extension": ".py",
   "mimetype": "text/x-python",
   "name": "python",
   "nbconvert_exporter": "python",
   "pygments_lexer": "ipython3",
   "version": "3.7.4"
  }
 },
 "nbformat": 4,
 "nbformat_minor": 1
}
